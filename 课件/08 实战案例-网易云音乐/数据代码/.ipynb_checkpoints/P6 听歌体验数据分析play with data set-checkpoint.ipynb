{
 "cells": [
  {
   "cell_type": "code",
   "execution_count": 81,
   "id": "b7ac375b",
   "metadata": {},
   "outputs": [],
   "source": [
    "import pandas as pd\n",
    "import numpy as np\n",
    "import datetime as dt"
   ]
  },
  {
   "cell_type": "code",
   "execution_count": 82,
   "id": "1313c0cf",
   "metadata": {
    "scrolled": true
   },
   "outputs": [],
   "source": [
    "# load data\n",
    "data = pd.read_csv('user_play_detail.csv')"
   ]
  },
  {
   "cell_type": "code",
   "execution_count": 83,
   "id": "6013ecac",
   "metadata": {
    "scrolled": true
   },
   "outputs": [
    {
     "data": {
      "text/html": [
       "<div>\n",
       "<style scoped>\n",
       "    .dataframe tbody tr th:only-of-type {\n",
       "        vertical-align: middle;\n",
       "    }\n",
       "\n",
       "    .dataframe tbody tr th {\n",
       "        vertical-align: top;\n",
       "    }\n",
       "\n",
       "    .dataframe thead th {\n",
       "        text-align: right;\n",
       "    }\n",
       "</style>\n",
       "<table border=\"1\" class=\"dataframe\">\n",
       "  <thead>\n",
       "    <tr style=\"text-align: right;\">\n",
       "      <th></th>\n",
       "      <th>device_id</th>\n",
       "      <th>os</th>\n",
       "      <th>appver</th>\n",
       "      <th>log_time</th>\n",
       "      <th>duration</th>\n",
       "      <th>source</th>\n",
       "      <th>song_id</th>\n",
       "      <th>action</th>\n",
       "    </tr>\n",
       "  </thead>\n",
       "  <tbody>\n",
       "    <tr>\n",
       "      <th>0</th>\n",
       "      <td>O21747461S</td>\n",
       "      <td>android</td>\n",
       "      <td>5.4.0</td>\n",
       "      <td>1533087870</td>\n",
       "      <td>160</td>\n",
       "      <td>DailyRecommends</td>\n",
       "      <td>84239</td>\n",
       "      <td>play</td>\n",
       "    </tr>\n",
       "    <tr>\n",
       "      <th>1</th>\n",
       "      <td>P96798826F</td>\n",
       "      <td>android</td>\n",
       "      <td>5.4.0</td>\n",
       "      <td>1533066447</td>\n",
       "      <td>7</td>\n",
       "      <td>PersonalFM</td>\n",
       "      <td>47567</td>\n",
       "      <td>play</td>\n",
       "    </tr>\n",
       "    <tr>\n",
       "      <th>2</th>\n",
       "      <td>P96798826F</td>\n",
       "      <td>android</td>\n",
       "      <td>5.4.0</td>\n",
       "      <td>1533131566</td>\n",
       "      <td>149</td>\n",
       "      <td>UserCreatedList</td>\n",
       "      <td>38224</td>\n",
       "      <td>play</td>\n",
       "    </tr>\n",
       "    <tr>\n",
       "      <th>3</th>\n",
       "      <td>L59138887N</td>\n",
       "      <td>web</td>\n",
       "      <td>NaN</td>\n",
       "      <td>1533130349</td>\n",
       "      <td>10</td>\n",
       "      <td>UserLikeList</td>\n",
       "      <td>43701</td>\n",
       "      <td>play</td>\n",
       "    </tr>\n",
       "    <tr>\n",
       "      <th>4</th>\n",
       "      <td>R88622339P</td>\n",
       "      <td>android</td>\n",
       "      <td>5.4.0</td>\n",
       "      <td>1533120843</td>\n",
       "      <td>177</td>\n",
       "      <td>RecommendedList</td>\n",
       "      <td>87100</td>\n",
       "      <td>play</td>\n",
       "    </tr>\n",
       "  </tbody>\n",
       "</table>\n",
       "</div>"
      ],
      "text/plain": [
       "    device_id       os appver    log_time  duration           source  song_id  \\\n",
       "0  O21747461S  android  5.4.0  1533087870       160  DailyRecommends    84239   \n",
       "1  P96798826F  android  5.4.0  1533066447         7       PersonalFM    47567   \n",
       "2  P96798826F  android  5.4.0  1533131566       149  UserCreatedList    38224   \n",
       "3  L59138887N      web    NaN  1533130349        10     UserLikeList    43701   \n",
       "4  R88622339P  android  5.4.0  1533120843       177  RecommendedList    87100   \n",
       "\n",
       "  action  \n",
       "0   play  \n",
       "1   play  \n",
       "2   play  \n",
       "3   play  \n",
       "4   play  "
      ]
     },
     "execution_count": 83,
     "metadata": {},
     "output_type": "execute_result"
    }
   ],
   "source": [
    "data.head()"
   ]
  },
  {
   "cell_type": "code",
   "execution_count": 88,
   "id": "2dba7825",
   "metadata": {},
   "outputs": [
    {
     "data": {
      "text/plain": [
       "device_id    0\n",
       "os           0\n",
       "appver       2\n",
       "log_time     0\n",
       "duration     0\n",
       "source       0\n",
       "song_id      0\n",
       "action       0\n",
       "dtype: int64"
      ]
     },
     "execution_count": 88,
     "metadata": {},
     "output_type": "execute_result"
    }
   ],
   "source": [
    "# count no. of na \n",
    "data.isna().sum()"
   ]
  },
  {
   "cell_type": "code",
   "execution_count": 85,
   "id": "322e0b04",
   "metadata": {},
   "outputs": [
    {
     "data": {
      "text/plain": [
       "device_id    0.00\n",
       "os           0.00\n",
       "appver       0.01\n",
       "log_time     0.00\n",
       "duration     0.00\n",
       "source       0.00\n",
       "song_id      0.00\n",
       "action       0.00\n",
       "dtype: float64"
      ]
     },
     "execution_count": 85,
     "metadata": {},
     "output_type": "execute_result"
    }
   ],
   "source": [
    "data.isna().sum()/len(data)"
   ]
  },
  {
   "cell_type": "code",
   "execution_count": 86,
   "id": "b31034a8",
   "metadata": {},
   "outputs": [],
   "source": [
    "# drop na value\n",
    "data.dropna(subset =['log_time'],inplace = True)"
   ]
  },
  {
   "cell_type": "code",
   "execution_count": 87,
   "id": "aeb72e96",
   "metadata": {},
   "outputs": [
    {
     "data": {
      "text/html": [
       "<div>\n",
       "<style scoped>\n",
       "    .dataframe tbody tr th:only-of-type {\n",
       "        vertical-align: middle;\n",
       "    }\n",
       "\n",
       "    .dataframe tbody tr th {\n",
       "        vertical-align: top;\n",
       "    }\n",
       "\n",
       "    .dataframe thead th {\n",
       "        text-align: right;\n",
       "    }\n",
       "</style>\n",
       "<table border=\"1\" class=\"dataframe\">\n",
       "  <thead>\n",
       "    <tr style=\"text-align: right;\">\n",
       "      <th></th>\n",
       "      <th>device_id</th>\n",
       "      <th>os</th>\n",
       "      <th>appver</th>\n",
       "      <th>log_time</th>\n",
       "      <th>duration</th>\n",
       "      <th>source</th>\n",
       "      <th>song_id</th>\n",
       "      <th>action</th>\n",
       "    </tr>\n",
       "  </thead>\n",
       "  <tbody>\n",
       "    <tr>\n",
       "      <th>0</th>\n",
       "      <td>O21747461S</td>\n",
       "      <td>android</td>\n",
       "      <td>5.4.0</td>\n",
       "      <td>1533087870</td>\n",
       "      <td>160</td>\n",
       "      <td>DailyRecommends</td>\n",
       "      <td>84239</td>\n",
       "      <td>play</td>\n",
       "    </tr>\n",
       "    <tr>\n",
       "      <th>1</th>\n",
       "      <td>P96798826F</td>\n",
       "      <td>android</td>\n",
       "      <td>5.4.0</td>\n",
       "      <td>1533066447</td>\n",
       "      <td>7</td>\n",
       "      <td>PersonalFM</td>\n",
       "      <td>47567</td>\n",
       "      <td>play</td>\n",
       "    </tr>\n",
       "    <tr>\n",
       "      <th>2</th>\n",
       "      <td>P96798826F</td>\n",
       "      <td>android</td>\n",
       "      <td>5.4.0</td>\n",
       "      <td>1533131566</td>\n",
       "      <td>149</td>\n",
       "      <td>UserCreatedList</td>\n",
       "      <td>38224</td>\n",
       "      <td>play</td>\n",
       "    </tr>\n",
       "    <tr>\n",
       "      <th>3</th>\n",
       "      <td>L59138887N</td>\n",
       "      <td>web</td>\n",
       "      <td>unkonwn</td>\n",
       "      <td>1533130349</td>\n",
       "      <td>10</td>\n",
       "      <td>UserLikeList</td>\n",
       "      <td>43701</td>\n",
       "      <td>play</td>\n",
       "    </tr>\n",
       "    <tr>\n",
       "      <th>4</th>\n",
       "      <td>R88622339P</td>\n",
       "      <td>android</td>\n",
       "      <td>5.4.0</td>\n",
       "      <td>1533120843</td>\n",
       "      <td>177</td>\n",
       "      <td>RecommendedList</td>\n",
       "      <td>87100</td>\n",
       "      <td>play</td>\n",
       "    </tr>\n",
       "    <tr>\n",
       "      <th>...</th>\n",
       "      <td>...</td>\n",
       "      <td>...</td>\n",
       "      <td>...</td>\n",
       "      <td>...</td>\n",
       "      <td>...</td>\n",
       "      <td>...</td>\n",
       "      <td>...</td>\n",
       "      <td>...</td>\n",
       "    </tr>\n",
       "    <tr>\n",
       "      <th>195</th>\n",
       "      <td>C28878066V</td>\n",
       "      <td>android</td>\n",
       "      <td>5.3.1</td>\n",
       "      <td>1533073193</td>\n",
       "      <td>101</td>\n",
       "      <td>RecentlyPlayed</td>\n",
       "      <td>41330</td>\n",
       "      <td>play</td>\n",
       "    </tr>\n",
       "    <tr>\n",
       "      <th>196</th>\n",
       "      <td>H82761540Q</td>\n",
       "      <td>android</td>\n",
       "      <td>5.4.0</td>\n",
       "      <td>1533090530</td>\n",
       "      <td>98</td>\n",
       "      <td>UserLikeList</td>\n",
       "      <td>52919</td>\n",
       "      <td>play</td>\n",
       "    </tr>\n",
       "    <tr>\n",
       "      <th>197</th>\n",
       "      <td>J87607469Z</td>\n",
       "      <td>android</td>\n",
       "      <td>5.4.0</td>\n",
       "      <td>1533063274</td>\n",
       "      <td>49</td>\n",
       "      <td>RecommendedList</td>\n",
       "      <td>30758</td>\n",
       "      <td>play</td>\n",
       "    </tr>\n",
       "    <tr>\n",
       "      <th>198</th>\n",
       "      <td>O79900961J</td>\n",
       "      <td>iphone</td>\n",
       "      <td>5.4.0</td>\n",
       "      <td>1533098261</td>\n",
       "      <td>13</td>\n",
       "      <td>RecommendedList</td>\n",
       "      <td>20786</td>\n",
       "      <td>play</td>\n",
       "    </tr>\n",
       "    <tr>\n",
       "      <th>199</th>\n",
       "      <td>H20187554E</td>\n",
       "      <td>pc</td>\n",
       "      <td>2.4.0.196505</td>\n",
       "      <td>1533094690</td>\n",
       "      <td>108</td>\n",
       "      <td>UserLikeList</td>\n",
       "      <td>22937</td>\n",
       "      <td>play</td>\n",
       "    </tr>\n",
       "  </tbody>\n",
       "</table>\n",
       "<p>200 rows × 8 columns</p>\n",
       "</div>"
      ],
      "text/plain": [
       "      device_id       os        appver    log_time  duration           source  \\\n",
       "0    O21747461S  android         5.4.0  1533087870       160  DailyRecommends   \n",
       "1    P96798826F  android         5.4.0  1533066447         7       PersonalFM   \n",
       "2    P96798826F  android         5.4.0  1533131566       149  UserCreatedList   \n",
       "3    L59138887N      web       unkonwn  1533130349        10     UserLikeList   \n",
       "4    R88622339P  android         5.4.0  1533120843       177  RecommendedList   \n",
       "..          ...      ...           ...         ...       ...              ...   \n",
       "195  C28878066V  android         5.3.1  1533073193       101   RecentlyPlayed   \n",
       "196  H82761540Q  android         5.4.0  1533090530        98     UserLikeList   \n",
       "197  J87607469Z  android         5.4.0  1533063274        49  RecommendedList   \n",
       "198  O79900961J   iphone         5.4.0  1533098261        13  RecommendedList   \n",
       "199  H20187554E       pc  2.4.0.196505  1533094690       108     UserLikeList   \n",
       "\n",
       "     song_id action  \n",
       "0      84239   play  \n",
       "1      47567   play  \n",
       "2      38224   play  \n",
       "3      43701   play  \n",
       "4      87100   play  \n",
       "..       ...    ...  \n",
       "195    41330   play  \n",
       "196    52919   play  \n",
       "197    30758   play  \n",
       "198    20786   play  \n",
       "199    22937   play  \n",
       "\n",
       "[200 rows x 8 columns]"
      ]
     },
     "execution_count": 87,
     "metadata": {},
     "output_type": "execute_result"
    }
   ],
   "source": [
    "# replace na value\n",
    "data.fillna('unkonwn')"
   ]
  },
  {
   "cell_type": "code",
   "execution_count": 91,
   "id": "bc6ec578",
   "metadata": {
    "scrolled": true
   },
   "outputs": [
    {
     "data": {
      "text/plain": [
       "0"
      ]
     },
     "execution_count": 91,
     "metadata": {},
     "output_type": "execute_result"
    }
   ],
   "source": [
    "# count duplicated rows\n",
    "data.duplicated(['device_id','log_time','song_id']).sum()"
   ]
  },
  {
   "cell_type": "code",
   "execution_count": 90,
   "id": "c6e21a95",
   "metadata": {},
   "outputs": [],
   "source": [
    "# drop duplicated rows\n",
    "data.drop_duplicates(subset=['device_id','log_time','song_id'],inplace=True)"
   ]
  },
  {
   "cell_type": "code",
   "execution_count": 92,
   "id": "4db8894b",
   "metadata": {},
   "outputs": [
    {
     "data": {
      "text/plain": [
       "0     2018-08-01 01:44:30\n",
       "1     2018-07-31 19:47:27\n",
       "2     2018-08-01 13:52:46\n",
       "3     2018-08-01 13:32:29\n",
       "4     2018-08-01 10:54:03\n",
       "              ...        \n",
       "195   2018-07-31 21:39:53\n",
       "196   2018-08-01 02:28:50\n",
       "197   2018-07-31 18:54:34\n",
       "198   2018-08-01 04:37:41\n",
       "199   2018-08-01 03:38:10\n",
       "Name: log_time, Length: 199, dtype: datetime64[ns]"
      ]
     },
     "execution_count": 92,
     "metadata": {},
     "output_type": "execute_result"
    }
   ],
   "source": [
    "# convert timestamp to date\n",
    "\n",
    "pd.to_datetime(data['log_time'],unit='s')"
   ]
  },
  {
   "cell_type": "code",
   "execution_count": 93,
   "id": "52ba0795",
   "metadata": {},
   "outputs": [
    {
     "data": {
      "text/plain": [
       "0      2018-08-01\n",
       "1      2018-07-31\n",
       "2      2018-08-01\n",
       "3      2018-08-01\n",
       "4      2018-08-01\n",
       "          ...    \n",
       "195    2018-07-31\n",
       "196    2018-08-01\n",
       "197    2018-07-31\n",
       "198    2018-08-01\n",
       "199    2018-08-01\n",
       "Name: log_time, Length: 199, dtype: object"
      ]
     },
     "execution_count": 93,
     "metadata": {},
     "output_type": "execute_result"
    }
   ],
   "source": [
    "# convert timestamp to date with specified format\n",
    "\n",
    "pd.to_datetime(data['log_time'],unit='s').dt.strftime('%Y-%m-%d')"
   ]
  },
  {
   "cell_type": "code",
   "execution_count": 96,
   "id": "979f807d",
   "metadata": {},
   "outputs": [],
   "source": [
    "# add dt column\n",
    "data['dt'] = pd.to_datetime(data['log_time'],unit='s').dt.strftime('%Y-%m-%d')"
   ]
  },
  {
   "cell_type": "code",
   "execution_count": 97,
   "id": "d2fdae38",
   "metadata": {},
   "outputs": [
    {
     "data": {
      "text/html": [
       "<div>\n",
       "<style scoped>\n",
       "    .dataframe tbody tr th:only-of-type {\n",
       "        vertical-align: middle;\n",
       "    }\n",
       "\n",
       "    .dataframe tbody tr th {\n",
       "        vertical-align: top;\n",
       "    }\n",
       "\n",
       "    .dataframe thead th {\n",
       "        text-align: right;\n",
       "    }\n",
       "</style>\n",
       "<table border=\"1\" class=\"dataframe\">\n",
       "  <thead>\n",
       "    <tr style=\"text-align: right;\">\n",
       "      <th></th>\n",
       "      <th>dt</th>\n",
       "      <th>log_time</th>\n",
       "    </tr>\n",
       "  </thead>\n",
       "  <tbody>\n",
       "    <tr>\n",
       "      <th>0</th>\n",
       "      <td>2018-08-01</td>\n",
       "      <td>1533087870</td>\n",
       "    </tr>\n",
       "    <tr>\n",
       "      <th>1</th>\n",
       "      <td>2018-07-31</td>\n",
       "      <td>1533066447</td>\n",
       "    </tr>\n",
       "    <tr>\n",
       "      <th>2</th>\n",
       "      <td>2018-08-01</td>\n",
       "      <td>1533131566</td>\n",
       "    </tr>\n",
       "    <tr>\n",
       "      <th>3</th>\n",
       "      <td>2018-08-01</td>\n",
       "      <td>1533130349</td>\n",
       "    </tr>\n",
       "    <tr>\n",
       "      <th>4</th>\n",
       "      <td>2018-08-01</td>\n",
       "      <td>1533120843</td>\n",
       "    </tr>\n",
       "  </tbody>\n",
       "</table>\n",
       "</div>"
      ],
      "text/plain": [
       "           dt    log_time\n",
       "0  2018-08-01  1533087870\n",
       "1  2018-07-31  1533066447\n",
       "2  2018-08-01  1533131566\n",
       "3  2018-08-01  1533130349\n",
       "4  2018-08-01  1533120843"
      ]
     },
     "execution_count": 97,
     "metadata": {},
     "output_type": "execute_result"
    }
   ],
   "source": [
    "subset = data.loc[:,['dt','log_time']]\n",
    "subset.head()"
   ]
  },
  {
   "cell_type": "code",
   "execution_count": 98,
   "id": "7e91fd40",
   "metadata": {},
   "outputs": [
    {
     "data": {
      "text/plain": [
       "28000"
      ]
     },
     "execution_count": 98,
     "metadata": {},
     "output_type": "execute_result"
    }
   ],
   "source": [
    "max(data['duration'])"
   ]
  },
  {
   "cell_type": "code",
   "execution_count": 99,
   "id": "a2e30d8f",
   "metadata": {},
   "outputs": [],
   "source": [
    "data.drop(data[data.duration > 1000].index, inplace=True)"
   ]
  },
  {
   "cell_type": "code",
   "execution_count": 100,
   "id": "722c3955",
   "metadata": {},
   "outputs": [],
   "source": [
    "data.to_csv(\"user_play_detail_clean.csv\")"
   ]
  },
  {
   "cell_type": "code",
   "execution_count": null,
   "id": "2168cab6",
   "metadata": {},
   "outputs": [],
   "source": []
  }
 ],
 "metadata": {
  "kernelspec": {
   "display_name": "Python 3",
   "language": "python",
   "name": "python3"
  },
  "language_info": {
   "codemirror_mode": {
    "name": "ipython",
    "version": 3
   },
   "file_extension": ".py",
   "mimetype": "text/x-python",
   "name": "python",
   "nbconvert_exporter": "python",
   "pygments_lexer": "ipython3",
   "version": "3.8.8"
  }
 },
 "nbformat": 4,
 "nbformat_minor": 5
}
