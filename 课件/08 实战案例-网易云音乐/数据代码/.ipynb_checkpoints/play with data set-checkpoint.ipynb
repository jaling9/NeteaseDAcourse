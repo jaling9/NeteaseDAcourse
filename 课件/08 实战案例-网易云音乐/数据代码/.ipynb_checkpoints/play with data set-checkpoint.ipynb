{
 "cells": [
  {
   "cell_type": "code",
   "execution_count": 90,
   "id": "b7ac375b",
   "metadata": {},
   "outputs": [],
   "source": [
    "import pandas as pd\n",
    "import numpy as np\n",
    "import datetime as dt"
   ]
  },
  {
   "cell_type": "code",
   "execution_count": 110,
   "id": "1313c0cf",
   "metadata": {
    "scrolled": true
   },
   "outputs": [],
   "source": [
    "# load data\n",
    "data = pd.read_csv('user_play_detail.csv')"
   ]
  },
  {
   "cell_type": "code",
   "execution_count": 111,
   "id": "6013ecac",
   "metadata": {},
   "outputs": [
    {
     "data": {
      "text/html": [
       "<div>\n",
       "<style scoped>\n",
       "    .dataframe tbody tr th:only-of-type {\n",
       "        vertical-align: middle;\n",
       "    }\n",
       "\n",
       "    .dataframe tbody tr th {\n",
       "        vertical-align: top;\n",
       "    }\n",
       "\n",
       "    .dataframe thead th {\n",
       "        text-align: right;\n",
       "    }\n",
       "</style>\n",
       "<table border=\"1\" class=\"dataframe\">\n",
       "  <thead>\n",
       "    <tr style=\"text-align: right;\">\n",
       "      <th></th>\n",
       "      <th>device_id</th>\n",
       "      <th>os</th>\n",
       "      <th>appver</th>\n",
       "      <th>log_time</th>\n",
       "      <th>duration</th>\n",
       "      <th>source</th>\n",
       "      <th>song_id</th>\n",
       "      <th>action</th>\n",
       "    </tr>\n",
       "  </thead>\n",
       "  <tbody>\n",
       "    <tr>\n",
       "      <th>0</th>\n",
       "      <td>O21747461S</td>\n",
       "      <td>android</td>\n",
       "      <td>5.4.0</td>\n",
       "      <td>1533087870</td>\n",
       "      <td>160</td>\n",
       "      <td>DailyRecommends</td>\n",
       "      <td>84239</td>\n",
       "      <td>play</td>\n",
       "    </tr>\n",
       "    <tr>\n",
       "      <th>1</th>\n",
       "      <td>P96798826F</td>\n",
       "      <td>android</td>\n",
       "      <td>5.4.0</td>\n",
       "      <td>1533066447</td>\n",
       "      <td>7</td>\n",
       "      <td>PersonalFM</td>\n",
       "      <td>47567</td>\n",
       "      <td>play</td>\n",
       "    </tr>\n",
       "    <tr>\n",
       "      <th>2</th>\n",
       "      <td>P96798826F</td>\n",
       "      <td>android</td>\n",
       "      <td>5.4.0</td>\n",
       "      <td>1533131566</td>\n",
       "      <td>149</td>\n",
       "      <td>UserCreatedList</td>\n",
       "      <td>38224</td>\n",
       "      <td>play</td>\n",
       "    </tr>\n",
       "    <tr>\n",
       "      <th>3</th>\n",
       "      <td>L59138887N</td>\n",
       "      <td>web</td>\n",
       "      <td>NaN</td>\n",
       "      <td>1533130349</td>\n",
       "      <td>13330</td>\n",
       "      <td>UserLikeList</td>\n",
       "      <td>43701</td>\n",
       "      <td>play</td>\n",
       "    </tr>\n",
       "    <tr>\n",
       "      <th>4</th>\n",
       "      <td>R88622339P</td>\n",
       "      <td>android</td>\n",
       "      <td>5.4.0</td>\n",
       "      <td>1533120843</td>\n",
       "      <td>177</td>\n",
       "      <td>RecommendedList</td>\n",
       "      <td>87100</td>\n",
       "      <td>play</td>\n",
       "    </tr>\n",
       "  </tbody>\n",
       "</table>\n",
       "</div>"
      ],
      "text/plain": [
       "    device_id       os appver    log_time  duration           source  song_id  \\\n",
       "0  O21747461S  android  5.4.0  1533087870       160  DailyRecommends    84239   \n",
       "1  P96798826F  android  5.4.0  1533066447         7       PersonalFM    47567   \n",
       "2  P96798826F  android  5.4.0  1533131566       149  UserCreatedList    38224   \n",
       "3  L59138887N      web    NaN  1533130349     13330     UserLikeList    43701   \n",
       "4  R88622339P  android  5.4.0  1533120843       177  RecommendedList    87100   \n",
       "\n",
       "  action  \n",
       "0   play  \n",
       "1   play  \n",
       "2   play  \n",
       "3   play  \n",
       "4   play  "
      ]
     },
     "execution_count": 111,
     "metadata": {},
     "output_type": "execute_result"
    }
   ],
   "source": [
    "data.head()"
   ]
  },
  {
   "cell_type": "code",
   "execution_count": 105,
   "id": "2dba7825",
   "metadata": {},
   "outputs": [
    {
     "data": {
      "text/plain": [
       "Index(['device_id', 'os', 'appver', 'log_time', 'duration', 'source',\n",
       "       'song_id', 'action'],\n",
       "      dtype='object')"
      ]
     },
     "execution_count": 105,
     "metadata": {},
     "output_type": "execute_result"
    }
   ],
   "source": [
    "data.columns"
   ]
  },
  {
   "cell_type": "code",
   "execution_count": 106,
   "id": "322e0b04",
   "metadata": {},
   "outputs": [
    {
     "data": {
      "text/plain": [
       "device_id    0\n",
       "os           0\n",
       "appver       2\n",
       "log_time     0\n",
       "duration     0\n",
       "source       0\n",
       "song_id      0\n",
       "action       0\n",
       "dtype: int64"
      ]
     },
     "execution_count": 106,
     "metadata": {},
     "output_type": "execute_result"
    }
   ],
   "source": [
    "data.isna().sum()"
   ]
  },
  {
   "cell_type": "code",
   "execution_count": null,
   "id": "de541b01",
   "metadata": {},
   "outputs": [],
   "source": [
    "# drop na value\n",
    "\n",
    "# data.dropna(subset =['appver'],inplace = True)"
   ]
  },
  {
   "cell_type": "code",
   "execution_count": 95,
   "id": "4db8894b",
   "metadata": {},
   "outputs": [
    {
     "data": {
      "text/plain": [
       "0      2018-08-01\n",
       "1      2018-07-31\n",
       "2      2018-08-01\n",
       "3      2018-08-01\n",
       "4      2018-08-01\n",
       "          ...    \n",
       "195    2018-07-31\n",
       "196    2018-08-01\n",
       "197    2018-07-31\n",
       "198    2018-08-01\n",
       "199    2018-08-01\n",
       "Name: log_time, Length: 200, dtype: object"
      ]
     },
     "execution_count": 95,
     "metadata": {},
     "output_type": "execute_result"
    }
   ],
   "source": [
    "# convert timestamp to date\n",
    "\n",
    "pd.to_datetime(data['log_time'],unit='s')\n",
    "# pd.to_datetime(data['log_time'],unit='s').dt.strftime('%Y-%m-%d')"
   ]
  },
  {
   "cell_type": "code",
   "execution_count": 92,
   "id": "979f807d",
   "metadata": {},
   "outputs": [],
   "source": [
    "# add dt column\n",
    "data['dt'] = pd.to_datetime(data['log_time'],unit='s')"
   ]
  },
  {
   "cell_type": "code",
   "execution_count": 75,
   "id": "d2fdae38",
   "metadata": {},
   "outputs": [
    {
     "data": {
      "text/html": [
       "<div>\n",
       "<style scoped>\n",
       "    .dataframe tbody tr th:only-of-type {\n",
       "        vertical-align: middle;\n",
       "    }\n",
       "\n",
       "    .dataframe tbody tr th {\n",
       "        vertical-align: top;\n",
       "    }\n",
       "\n",
       "    .dataframe thead th {\n",
       "        text-align: right;\n",
       "    }\n",
       "</style>\n",
       "<table border=\"1\" class=\"dataframe\">\n",
       "  <thead>\n",
       "    <tr style=\"text-align: right;\">\n",
       "      <th></th>\n",
       "      <th>dt</th>\n",
       "      <th>log_time</th>\n",
       "    </tr>\n",
       "  </thead>\n",
       "  <tbody>\n",
       "    <tr>\n",
       "      <th>0</th>\n",
       "      <td>2018-08-01 01:44:30</td>\n",
       "      <td>1533087870</td>\n",
       "    </tr>\n",
       "    <tr>\n",
       "      <th>1</th>\n",
       "      <td>2018-07-31 19:47:27</td>\n",
       "      <td>1533066447</td>\n",
       "    </tr>\n",
       "    <tr>\n",
       "      <th>2</th>\n",
       "      <td>2018-08-01 13:52:46</td>\n",
       "      <td>1533131566</td>\n",
       "    </tr>\n",
       "    <tr>\n",
       "      <th>3</th>\n",
       "      <td>2018-08-01 13:32:29</td>\n",
       "      <td>1533130349</td>\n",
       "    </tr>\n",
       "    <tr>\n",
       "      <th>4</th>\n",
       "      <td>2018-08-01 10:54:03</td>\n",
       "      <td>1533120843</td>\n",
       "    </tr>\n",
       "  </tbody>\n",
       "</table>\n",
       "</div>"
      ],
      "text/plain": [
       "                   dt    log_time\n",
       "0 2018-08-01 01:44:30  1533087870\n",
       "1 2018-07-31 19:47:27  1533066447\n",
       "2 2018-08-01 13:52:46  1533131566\n",
       "3 2018-08-01 13:32:29  1533130349\n",
       "4 2018-08-01 10:54:03  1533120843"
      ]
     },
     "execution_count": 75,
     "metadata": {},
     "output_type": "execute_result"
    }
   ],
   "source": [
    "subset = data.loc[:,['dt','log_time']]\n",
    "subset.head()"
   ]
  },
  {
   "cell_type": "code",
   "execution_count": 107,
   "id": "1ea8b224",
   "metadata": {},
   "outputs": [],
   "source": [
    "android = data[data.os == 'android']\n",
    "iphone = data[data.os == 'iphone']"
   ]
  },
  {
   "cell_type": "code",
   "execution_count": 48,
   "id": "c9fc22c9",
   "metadata": {},
   "outputs": [
    {
     "data": {
      "text/plain": [
       "53.5"
      ]
     },
     "execution_count": 48,
     "metadata": {},
     "output_type": "execute_result"
    }
   ],
   "source": [
    "np.median(android.duration)\n",
    "np.median(iphone.duration)"
   ]
  },
  {
   "cell_type": "code",
   "execution_count": 50,
   "id": "67fad5f1",
   "metadata": {},
   "outputs": [
    {
     "data": {
      "text/plain": [
       "104.15178571428571"
      ]
     },
     "execution_count": 50,
     "metadata": {},
     "output_type": "execute_result"
    }
   ],
   "source": [
    "np.mean(iphone.duration)\n",
    "np.mean(android.duration)"
   ]
  },
  {
   "cell_type": "code",
   "execution_count": 108,
   "id": "7e91fd40",
   "metadata": {},
   "outputs": [
    {
     "data": {
      "text/plain": [
       "207"
      ]
     },
     "execution_count": 108,
     "metadata": {},
     "output_type": "execute_result"
    }
   ],
   "source": [
    "max(android.duration)"
   ]
  },
  {
   "cell_type": "code",
   "execution_count": 109,
   "id": "1d9795e4",
   "metadata": {},
   "outputs": [
    {
     "data": {
      "text/plain": [
       "204"
      ]
     },
     "execution_count": 109,
     "metadata": {},
     "output_type": "execute_result"
    }
   ],
   "source": [
    "max(iphone.duration)"
   ]
  },
  {
   "cell_type": "code",
   "execution_count": null,
   "id": "a2e30d8f",
   "metadata": {},
   "outputs": [],
   "source": []
  }
 ],
 "metadata": {
  "kernelspec": {
   "display_name": "Python 3",
   "language": "python",
   "name": "python3"
  },
  "language_info": {
   "codemirror_mode": {
    "name": "ipython",
    "version": 3
   },
   "file_extension": ".py",
   "mimetype": "text/x-python",
   "name": "python",
   "nbconvert_exporter": "python",
   "pygments_lexer": "ipython3",
   "version": "3.8.8"
  }
 },
 "nbformat": 4,
 "nbformat_minor": 5
}
